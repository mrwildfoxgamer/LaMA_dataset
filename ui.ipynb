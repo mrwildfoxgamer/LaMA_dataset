{
  "nbformat": 4,
  "nbformat_minor": 0,
  "metadata": {
    "colab": {
      "provenance": [],
      "authorship_tag": "ABX9TyPgtLWCys7SgbXSc/B85IkA",
      "include_colab_link": true
    },
    "kernelspec": {
      "name": "python3",
      "display_name": "Python 3"
    },
    "language_info": {
      "name": "python"
    }
  },
  "cells": [
    {
      "cell_type": "markdown",
      "metadata": {
        "id": "view-in-github",
        "colab_type": "text"
      },
      "source": [
        "<a href=\"https://colab.research.google.com/github/mrwildfoxgamer/LaMA_dataset/blob/main/ui.ipynb\" target=\"_parent\"><img src=\"https://colab.research.google.com/assets/colab-badge.svg\" alt=\"Open In Colab\"/></a>"
      ]
    },
    {
      "cell_type": "code",
      "source": [
        "!pip install -q transformers huggingface_hub auto-gptq torch sentencepiece accelerate\n"
      ],
      "metadata": {
        "id": "M6Gbz60BeB_b"
      },
      "execution_count": null,
      "outputs": []
    },
    {
      "cell_type": "code",
      "source": [
        "!pip install -q llama-cpp-python\n"
      ],
      "metadata": {
        "id": "cdmGu0tXeEuI"
      },
      "execution_count": null,
      "outputs": []
    },
    {
      "cell_type": "code",
      "source": [
        "from huggingface_hub import hf_hub_download\n",
        "\n",
        "# Change these values based on the model you want\n",
        "model_repo = \"Mrwildfox/model\"\n",
        "model_filename = \"unsloth.Q8_0.gguf\"  # Change as needed\n",
        "\n",
        "# Download the model\n",
        "model_path = hf_hub_download(repo_id=model_repo, filename=model_filename, local_dir=\"models\")\n",
        "print(\"Model downloaded to:\", model_path)\n"
      ],
      "metadata": {
        "id": "YfaJQZIMePRM"
      },
      "execution_count": null,
      "outputs": []
    },
    {
      "cell_type": "markdown",
      "source": [],
      "metadata": {
        "id": "dCjJXpIxeTHA"
      }
    },
    {
      "cell_type": "markdown",
      "source": [
        "alter native\n"
      ],
      "metadata": {
        "id": "y_Ts-RFGeTZe"
      }
    },
    {
      "cell_type": "code",
      "source": [
        "!wget -P models/ https://huggingface.co/Mrwildfox/model/resolve/main/unsloth.Q8_0.gguf?download=true\n"
      ],
      "metadata": {
        "id": "5CRAAHv3eUbw"
      },
      "execution_count": null,
      "outputs": []
    },
    {
      "cell_type": "code",
      "source": [
        "from llama_cpp import Llama\n",
        "\n",
        "model_path = \"models/llama-3-8b.Q4_K_M.gguf\"\n",
        "\n",
        "# Load the model\n",
        "llm = Llama(model_path=model_path)\n",
        "\n",
        "# Run inference\n",
        "output = llm(\"Q: What is the capital of France? A:\")\n",
        "print(output)\n"
      ],
      "metadata": {
        "id": "S834xDTHee1l"
      },
      "execution_count": null,
      "outputs": []
    }
  ]
}